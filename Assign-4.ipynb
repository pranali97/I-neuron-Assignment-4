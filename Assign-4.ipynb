{
 "cells": [
  {
   "cell_type": "code",
   "execution_count": null,
   "metadata": {},
   "outputs": [],
   "source": [
    "1. What exactly is []?"
   ]
  },
  {
   "cell_type": "code",
   "execution_count": null,
   "metadata": {},
   "outputs": [],
   "source": [
    "In python, '[]' represents an empty list. A list is a fundamental data structure in python used to store a \n",
    "collection of items, and it is denoted by square brackets. However, when we see [] with nothing inside \n",
    "the brackets, it means the list is empty and does not contain any elements.\n",
    "we can create empty list like this:-\n",
    "empty_list = []"
   ]
  },
  {
   "cell_type": "code",
   "execution_count": null,
   "metadata": {},
   "outputs": [],
   "source": [
    "2. In a list of values stored in a variable called spam, how would you assign the value 'hello' as the \n",
    "third value? (Assume [2, 4, 6, 8, 10] are in spam.)"
   ]
  },
  {
   "cell_type": "code",
   "execution_count": 3,
   "metadata": {},
   "outputs": [
    {
     "name": "stdout",
     "output_type": "stream",
     "text": [
      "[2, 4, 'hello', 8, 10]\n"
     ]
    }
   ],
   "source": [
    "spam = [2, 4, 6, 8, 10]\n",
    "spam[2] = \"hello\"\n",
    "print(spam)\n",
    "After executing this code, the spam list will be updated to [2, 4, 'hello', 8, 10], with 'hello' \n",
    "being the third element (at index 2)."
   ]
  },
  {
   "cell_type": "code",
   "execution_count": null,
   "metadata": {},
   "outputs": [],
   "source": [
    "Let's pretend the spam includes the list ['a', 'b', 'c', 'd'] for the next three queries.\n",
    "3. What is the value of spam[int(int('3' * 2) / 11)]?\n",
    "4. What is the value of spam[-1]?\n",
    "5. What is the value of spam[:2]?\n",
    "\n",
    "3.\n",
    "spam = ['a', 'b', 'c', 'd']\n",
    "first step :- ('3' * 2) --> 33\n",
    "second step:- int(int('3' * 2) / 11) --> 3\n",
    "third step:- spam[3] --> 'd'\n",
    "    So, spam[int(int('3' * 2) / 11)] becomes spam[3].\n",
    "    The value of spam[3] is 'd'\n",
    "    \n",
    "4.\n",
    "In Python, negative indices count from the end of the list. So, spam[-1] refers to the last element\n",
    "of the list.\n",
    "The value of spam[-1] is 'd'\n",
    "\n",
    "5.This is a list slicing operation. It includes elements from the beginning of the list up to (but not including) the \n",
    "element at index 2.\n",
    "so, spam[:2] will return a new list containing the elements ['a','b']/.\n",
    "    "
   ]
  },
  {
   "cell_type": "code",
   "execution_count": null,
   "metadata": {},
   "outputs": [],
   "source": [
    "Let's pretend bacon has the list [3.14, 'cat,' 11, 'cat,' True] for the next three questions.\n",
    "6. What is the value of bacon.index('cat')?\n",
    "7. How does bacon.append(99) change the look of the list value in bacon?\n",
    "8. How does bacon.remove('cat') change the look of the list in bacon?"
   ]
  },
  {
   "cell_type": "code",
   "execution_count": null,
   "metadata": {},
   "outputs": [],
   "source": [
    "6.What is the value of bacon.index('cat')?\n",
    "    The index() method returns the index of the first occurrence of the specified element in the list.\n",
    "    In this case, 'cat' appears at index 1 in the list bacon.\n",
    "    So, the value of bacon.index('cat') is 1\n",
    "7.How does bacon.append(99) change the look of the list value in bacon?\n",
    "    The append() method is used to add an element to the end of a list. When we call bacon.append(99),\n",
    "    the list bacon will now have an additional element, 99, at the end.\n",
    "    the updated bacon list will be:\n",
    "    [3.14, 'cat', 11, 'cat', True, 99].\n",
    "8.How does bacon.remove('cat') change the look of the list in bacon?\n",
    "    The remove() method is used to remove the first occurrence of a specified element from the list.\n",
    "    When we call bacon.remove('cat'), it will remove the first occurrence of 'cat' from the list bacon.\n",
    "    After executing bacon.remove('cat'), the updated bacon list will be: [3.14, 11, 'cat', True].\n"
   ]
  },
  {
   "cell_type": "code",
   "execution_count": null,
   "metadata": {},
   "outputs": [],
   "source": [
    "9. What are the list concatenation and list replication operators?"
   ]
  },
  {
   "cell_type": "code",
   "execution_count": 16,
   "metadata": {},
   "outputs": [
    {
     "name": "stdout",
     "output_type": "stream",
     "text": [
      "[1, 2, 3, 4, 5, 6]\n"
     ]
    }
   ],
   "source": [
    "In python, the list concatenation operator and list replication operator are used to manipulate list. Hers's\n",
    "an explanantion of both:\n",
    "1. list concatenation Operator(+):\n",
    "    The list concatenation operator (+) is used to combine two or more lists into a single list. When we \n",
    "    use the + operator with lists, it creates a new list that contains all the elements from the \n",
    "    original lists in the order they appear. The original lists remain unchanged.\n",
    "    \n",
    "    here's an example of list concatenation.\n",
    "    \n",
    "list1 = [1,2,3]\n",
    "list2 = [4,5,6]\n",
    "concatenated_list = list1 + list2\n",
    "print(concatenated_list)\n",
    "    "
   ]
  },
  {
   "cell_type": "code",
   "execution_count": 17,
   "metadata": {},
   "outputs": [
    {
     "name": "stdout",
     "output_type": "stream",
     "text": [
      "[1, 2, 3, 1, 2, 3, 1, 2, 3]\n"
     ]
    }
   ],
   "source": [
    "2. list Replication Operator():\n",
    "    The list replication operator() allows you to create a new list by repeating the elements of \n",
    "    an existing list a specified number of times. It is useful when you need to initialize a list with the\n",
    "    same values multiple times.\n",
    "    here's an example of list replication:-\n",
    "original_list = [1,2,3]\n",
    "replicated_list = original_list * 3\n",
    "print(replicated_list)"
   ]
  },
  {
   "cell_type": "code",
   "execution_count": null,
   "metadata": {},
   "outputs": [],
   "source": [
    "10. What is difference between the list methods append() and insert()?"
   ]
  },
  {
   "cell_type": "code",
   "execution_count": 21,
   "metadata": {},
   "outputs": [
    {
     "name": "stdout",
     "output_type": "stream",
     "text": [
      "[1, 2, 3, 4]\n"
     ]
    }
   ],
   "source": [
    "Both append() and insert() are methods in Python used to add elements to a list, but they \n",
    "have different ways of adding elements:\n",
    "1. append() method:\n",
    "    The append method is used to add a single element to the end of a list. It modifies the original list by \n",
    "    adding the elements as the last item in the list.\n",
    "mylist = [1,2,3]\n",
    "mylist.append(4)\n",
    "print(mylist)"
   ]
  },
  {
   "cell_type": "code",
   "execution_count": 22,
   "metadata": {},
   "outputs": [
    {
     "name": "stdout",
     "output_type": "stream",
     "text": [
      "[1, 5, 2, 3]\n"
     ]
    }
   ],
   "source": [
    "2. insert() method:\n",
    "    The insert() method is used to add a single elements at a specific index position in the list.\n",
    "    It also modifies the original list by shifting the elements to make room fo the new element.\n",
    "mylist = [1,2,3]\n",
    "mylist.insert(1,5)\n",
    "print(mylist)"
   ]
  },
  {
   "cell_type": "code",
   "execution_count": null,
   "metadata": {},
   "outputs": [],
   "source": [
    "the key difference between append() and insert() is that append() adds the element\n",
    "to the end of the list, while insert()allows you to specify the index where \n",
    "the element should be inserted within the list."
   ]
  },
  {
   "cell_type": "code",
   "execution_count": null,
   "metadata": {},
   "outputs": [],
   "source": [
    "11. What are the two methods for removing items from a list?"
   ]
  },
  {
   "cell_type": "code",
   "execution_count": 25,
   "metadata": {},
   "outputs": [
    {
     "name": "stdout",
     "output_type": "stream",
     "text": [
      "[1, 3, 2, 4]\n"
     ]
    }
   ],
   "source": [
    "There are two commonly used methods for removing items from a list in Python:\n",
    "1. remove() method:\n",
    "    The remove() method is used to remove the first occurrence of a specified value from the list. It\n",
    "    searches for the value in the list and removes it if found.\n",
    "my_list = [1, 2, 3, 2, 4]\n",
    "my_list.remove(2)\n",
    "print(my_list)\n"
   ]
  },
  {
   "cell_type": "code",
   "execution_count": 33,
   "metadata": {},
   "outputs": [
    {
     "name": "stdout",
     "output_type": "stream",
     "text": [
      "Before Removed list [1, 2, 3, 4]\n",
      "After Removed list 2\n",
      "[1, 3, 4]\n"
     ]
    }
   ],
   "source": [
    "2. pop() method:\n",
    "   The pop() method is used to remove an item from the list at a specified index position. It not only \n",
    "    removes the item but also returns the removed value .If no index is provided, it removes and returns\n",
    "    the last element of the list.\n",
    "my_list = [1,2, 3, 4]\n",
    "print(\"Before Removed list\",my_list)\n",
    "removed_item= my_list.pop(1)\n",
    "print(\"After Removed list\",removed_item)\n",
    "print(my_list)"
   ]
  },
  {
   "cell_type": "code",
   "execution_count": null,
   "metadata": {},
   "outputs": [],
   "source": [
    "12. Describe how list values and string values are identical."
   ]
  },
  {
   "cell_type": "code",
   "execution_count": null,
   "metadata": {},
   "outputs": [],
   "source": [
    "List and string values are both types of data in programming, but they have distinct characteristics. While they are\n",
    "different in many ways, theyre are a few similarities that can be drawn between them.\n",
    "\n",
    "1. Sequences: Both lists and strings are sequences, meaning they are ordered\n",
    "    collections of elements. In a string, the elements are individual characters, and in a \n",
    "    list, the elements can be any data type, including other lists\n",
    "    and string.\n",
    "2. Indexing: Elements in both lists and string can be accessed using indexing\n",
    "    Indexing starts at 0, so the first element of a list or string is at index 0,\n",
    "    the second at index 1, and so on.\n",
    "3. Slicing: Both lists and strings support slicing, allowing you to extract a portion of the\n",
    "    sequence by specifying a range of indeices. The result will be a new list or string containing the\n",
    "    selected elments."
   ]
  },
  {
   "cell_type": "code",
   "execution_count": null,
   "metadata": {},
   "outputs": [],
   "source": [
    "13. What's the difference between tuples and lists?"
   ]
  },
  {
   "cell_type": "code",
   "execution_count": null,
   "metadata": {},
   "outputs": [],
   "source": [
    "Tuples and lists are both data structures in programming used to store collections of items.\n",
    "there are several key differences between them:\n",
    "1. Mutability:\n",
    "    Lists: Lists are mutable, meaning we can change, add or remove elements after creating a list.\n",
    "           we can modify the list in place, reassign elements, and perform various operations that alter\n",
    "           the list's content. \n",
    "    \n",
    "    Tuples:Tuples, on the other hand, are immutable, which means once a tuple is created, we cannot modify\n",
    "            its elements. Once we define a tuple, we cannot add, remove, or change any elements in it.\n",
    "1. Syntax:\n",
    "        Lists: In most programming languages, lists are defined using square\n",
    "               brackets [ ]. For example: my_list = [1, 2, 3].\n",
    "        Tuples: Tuples are typically defined using parentheses ( ). For example: my_tuple = (1, 2, 3).\n",
    "2. Use cases:- Lists are commonly used when we need a collection of items that may change pr evolve during\n",
    "                the course of a program. Ex:, whenn dealing with adynamic list of elements, such as a list\n",
    "                of user inputs or a list of items in a shopping cart.\n",
    "                Tuples are often used when we want to create a group of related  and immutableutable \n",
    "                elements. Ex: returning multiple values from a function can be done using a tuple. Tuples\n",
    "                are also used as keys in dictionaries since they are immutable, unlike lists.\n",
    "3. Performance:- Lists due to their mutability, lists might have slightly more overhead and require more memory\n",
    "                as the program needs to account for possible changes in size and content.\n",
    "                Tuples, being immutable, are generally more memory-efficient and can provide\n",
    "            better performance in certain scenarios where immutabilty is beneficial.\n",
    "            "
   ]
  },
  {
   "cell_type": "code",
   "execution_count": null,
   "metadata": {},
   "outputs": [],
   "source": [
    "14. How do you type a tuple value that only contains the integer 42?"
   ]
  },
  {
   "cell_type": "code",
   "execution_count": null,
   "metadata": {},
   "outputs": [],
   "source": [
    "To create a tuple value that only contains the integer '42', we can use parentheses '()' to definw the \n",
    " tuple and place the integer '42' inside the parentheses. here's the python code to create such a tuple:\n",
    "my tuple = (42,)\n",
    "In this ex: (42,) represents a tuple with a single element, which is the integer '42'. The comma after the 42 is\n",
    "    essential  when creating a tuple with only one element. It differentiates between a single-element\n",
    "    tuple and just the integer itself.\n",
    "If we remove the comma , python will interpret it as an integer rather\n",
    "than a tuple. \n",
    "my_integer = (42)\n",
    "print(type(my_integer)) #output : <class 'int'>"
   ]
  },
  {
   "cell_type": "code",
   "execution_count": null,
   "metadata": {},
   "outputs": [],
   "source": [
    "15. How do you get a list value's tuple form? How do you get a tuple value's list form?"
   ]
  },
  {
   "cell_type": "code",
   "execution_count": null,
   "metadata": {},
   "outputs": [],
   "source": [
    "To convert a list to its tuple form, we can use the tuple() constructor, passing the list as an argument.\n",
    "The tuple() will create a new tuple with elements from the list.\n",
    "Ex: \n",
    "my_list = [1,2,3,4]\n",
    "my_tuple = tuple(my_list)\n",
    "print(my_tuple) #output (1,2,3,4)\n",
    "In this ex, the tuple() function takes the list my_list and converts it into a tuple 'my_tuple'.\n",
    "\n",
    "To convert a tuple to its list form, we can use the list() constructor. The list() function will create a new list with the elements from \n",
    "the tuple. \n",
    "Ex: \n",
    "my_tuple = (10, 20, 30, 40, 50)\n",
    "my_list = list(my_tuple)\n",
    "print(my_list)  # Output: [10, 20, 30, 40, 50]"
   ]
  },
  {
   "cell_type": "code",
   "execution_count": null,
   "metadata": {},
   "outputs": [],
   "source": [
    "16. Variables that \"contain\" list values are not necessarily lists themselves. Instead, what do they\n",
    "contain?\n",
    "Variables that \"contain\" list values do not actually store the list itself; rather, they store a reference\n",
    "or memory address pointing to the location in memory where the list is stored. \n",
    "variables are essentially labels or names that are associated with specific memory locations, allowing us\n",
    "to access and manipulate the data stored there.\n",
    "When you assign a list to a variable, the variable doesn't hold the actual list data, it holds the\n",
    "memoryry address of the list data. this is known as a reference or a pointer to the list.\n"
   ]
  },
  {
   "cell_type": "code",
   "execution_count": null,
   "metadata": {},
   "outputs": [],
   "source": [
    "17. How do you distinguish between copy.copy() and copy.deepcopy()?"
   ]
  },
  {
   "cell_type": "code",
   "execution_count": null,
   "metadata": {},
   "outputs": [],
   "source": [
    "In python, the 'copy' module provides two methods for creating copies of objects: copy() and deepcopy().\n",
    "Both methods are used to duplicate objects, but they differ in how they handle nested objects.\n",
    "1. copy.copy():\n",
    "    The copy.copy() method creates a shallow copy of an object. It duplicates the top-level object and\n",
    "    creates a new object that is a copy of the original. However, it does not create new copies of the  \n",
    "    objects inside the original object. Instead, it references the same nested objects. This means that\n",
    "    changes made to nested objects in they copied object will affect the original object, and vice versa.\n",
    "2. copy.deepcopy():\n",
    "        The copy.deepcopy() method creates a deep copy of an object. It duplicates the top level object and \n",
    "        recursively creates new copies of all they objects inside it,\n",
    "        including nested objects. As a result, the copied object is entirely independent of the original\n",
    "        object, and changesnges made to they copied object or its nested objects do not affect the\n",
    "        original object."
   ]
  },
  {
   "cell_type": "code",
   "execution_count": 2,
   "metadata": {},
   "outputs": [
    {
     "name": "stdout",
     "output_type": "stream",
     "text": [
      "[1, [200, 4], 5]\n",
      "[100, [200, 4], 5]\n"
     ]
    }
   ],
   "source": [
    "import copy\n",
    "original_list = [1,[3,4],5]\n",
    "copied_list = copy.copy(original_list)\n",
    "copied_list[0] = 100\n",
    "copied_list[1][0] = 200\n",
    "\n",
    "print(original_list)\n",
    "print(copied_list) "
   ]
  },
  {
   "cell_type": "code",
   "execution_count": 3,
   "metadata": {},
   "outputs": [
    {
     "name": "stdout",
     "output_type": "stream",
     "text": [
      "[1, [2, 3], 4]\n",
      "[100, [200, 3], 4]\n"
     ]
    }
   ],
   "source": [
    "import copy\n",
    "original_list = [1,[2,3],4]\n",
    "deepcopied_list = copy.deepcopy(original_list)\n",
    "\n",
    "deepcopied_list[0] = 100\n",
    "deepcopied_list[1][0] = 200\n",
    "\n",
    "print(original_list)    \n",
    "print(deepcopied_list)  "
   ]
  },
  {
   "cell_type": "code",
   "execution_count": null,
   "metadata": {},
   "outputs": [],
   "source": [
    "# The end"
   ]
  }
 ],
 "metadata": {
  "kernelspec": {
   "display_name": "Python 3",
   "language": "python",
   "name": "python3"
  },
  "language_info": {
   "codemirror_mode": {
    "name": "ipython",
    "version": 3
   },
   "file_extension": ".py",
   "mimetype": "text/x-python",
   "name": "python",
   "nbconvert_exporter": "python",
   "pygments_lexer": "ipython3",
   "version": "3.8.5"
  }
 },
 "nbformat": 4,
 "nbformat_minor": 4
}
